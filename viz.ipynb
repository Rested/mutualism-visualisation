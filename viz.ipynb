{
 "cells": [
  {
   "cell_type": "markdown",
   "metadata": {
    "pycharm": {
     "name": "#%% md\n"
    }
   },
   "source": [
    "# Mutualism type II functional response\n",
    "\n",
    "This is an interactive visualization of the type II functional response model described by Algarra et al here: https://ifisc.uib-csic.es//~jramasco/text/ecol_eqs.pdf."
   ]
  },
  {
   "cell_type": "code",
   "execution_count": 1,
   "metadata": {
    "pycharm": {
     "name": "#%%\n"
    }
   },
   "outputs": [],
   "source": [
    "# optional for e.g. colab !git clone https://github.com/Rested/mutualism-visualisation mut_vis"
   ]
  },
  {
   "cell_type": "markdown",
   "metadata": {
    "pycharm": {
     "name": "#%% md\n"
    }
   },
   "source": [
    "## Imports"
   ]
  },
  {
   "cell_type": "code",
   "execution_count": 2,
   "metadata": {},
   "outputs": [],
   "source": [
    "import numpy as np\n",
    "# from scipy.integrate import odeint\n",
    "import matplotlib.pyplot as p\n",
    "import ipywidgets as widgets\n",
    "from modplot import velovect\n",
    "# for colab -- from mut_vis.modplot import velovect"
   ]
  },
  {
   "cell_type": "markdown",
   "metadata": {
    "pycharm": {
     "name": "#%% md\n"
    }
   },
   "source": [
    "## Parameters\n",
    "\n",
    "> Animals here means some species of animal and plants means some species of plant.\n",
    "\n",
    "$r_1$ is the _intrinsic rate_ of growth of the population of animals.\n",
    "it is defined as\n",
    "$\n",
    "birthrate_1 - deathrate_1\n",
    "$.\n",
    "\n",
    "$r_2$ is the _intrinsic rate_ of growth of the population of plants.\n",
    "\n",
    "$\\alpha_1$ and $\\alpha_2$ are the \"braking/friction\" coefficient for animals and plants respectively, which can be\n",
    "interpreted as the effects of inter-species competition as well as mutualism. For simplicity, in this model the effect\n",
    "of mutualism on $\\alpha_i$ is proportional to the benefit with $c_i$ as the proportionality constant.\n",
    "\n",
    "$b_{12}$ is the rate of mutualistic interactions between animals and plants and $b_{21}$ is the rate between plants and\n",
    "animals."
   ]
  },
  {
   "cell_type": "code",
   "execution_count": 3,
   "metadata": {
    "pycharm": {
     "name": "#%%\n"
    }
   },
   "outputs": [],
   "source": [
    "# parameters\n",
    "initial_r1 = -3\n",
    "initial_r2 = -10\n",
    "initial_alpha1 = initial_alpha2 = 0.008\n",
    "initial_b12 = initial_b21 = 0.4\n",
    "initial_c1 = initial_c2 = 0.008\n"
   ]
  },
  {
   "cell_type": "markdown",
   "metadata": {
    "pycharm": {
     "name": "#%% md\n"
    }
   },
   "source": [
    "## The model\n",
    "The system dynamics with a plant species as index one and an animal species as index 2 is described by the following\n",
    "differential equation system.\n",
    "$$\n",
    "\\frac{dN^p_1}{dt} = (r_1 + b_{12}N^a_2)N^p_1 - (\\alpha_1 + c_1b_{12}N^a_2){N^p_1}^2\n",
    "\\\\\n",
    "\\frac{dN^a_2}{dt} = (r_2 + b_{21}N^p_1)N^a_2 - (\\alpha_2 + c_2b_{21}N^p_1){N^a_2}^2\n",
    "$$\n",
    "\n",
    "$\\frac{dN^p_1}{dt}$ describing how the plant population changes over time."
   ]
  },
  {
   "cell_type": "code",
   "execution_count": 4,
   "metadata": {
    "pycharm": {
     "name": "#%%\n"
    }
   },
   "outputs": [],
   "source": [
    "def dX_dt(X, t=0, **params):\n",
    "    animal, plant = X\n",
    "    return np.array(\n",
    "        [\n",
    "            (params[\"r1\"] + (params[\"b12\"] * animal)) * plant\n",
    "            - (\n",
    "                (params[\"alpha1\"] + (params[\"c1\"] * params[\"b12\"] * animal))\n",
    "                * (plant ** 2)\n",
    "            ),\n",
    "            (params[\"r2\"] + (params[\"b21\"] * plant)) * animal\n",
    "            - (\n",
    "                (params[\"alpha2\"] + (params[\"c2\"] * params[\"b21\"] * plant))\n",
    "                * (animal ** 2)\n",
    "            ),\n",
    "        ]\n",
    "    )\n"
   ]
  },
  {
   "cell_type": "markdown",
   "metadata": {
    "pycharm": {
     "name": "#%% md\n"
    }
   },
   "source": [
    "## Population dynamics/fixed points"
   ]
  },
  {
   "cell_type": "code",
   "execution_count": 5,
   "metadata": {
    "pycharm": {
     "name": "#%%\n"
    }
   },
   "outputs": [],
   "source": [
    "\n",
    "\n",
    "\"\"\"\n",
    "The dynamics of the surviving population with posi-tive r\n",
    "follows a decoupled logistic equation, as can be seen from(11).\n",
    "Therefore, its population will tend to the limit given by a non-interacting system:\n",
    "either K1=r1/α1 or K2 = r2/α2. This means that there are partial extinction\n",
    "fixed points (K1, 0) or (0, K2),or both if mutualism is facultative only for species 1\n",
    "(r1 > 0), only for species 2 (r2 > 0) (see Fig. 1c) or for both (r1 > 0 and r2 > 0) (see Fig. 1d).\n",
    "\"\"\"\n",
    "def get_fixed_points(**params):\n",
    "    X_f0 = np.array([0.0, 0.0])\n",
    "    K1 = params[\"r1\"] / params[\"alpha1\"]\n",
    "    K2 = params[\"r2\"] / params[\"alpha2\"]\n",
    "    X_f1 = np.array([K1, 0.0])\n",
    "    X_f2 = np.array([0.0, K2])\n",
    "    fixed_points = [X_f0]\n",
    "    print(dX_dt(list(reversed(X_f1)), **params), dX_dt(list(reversed(X_f2)), **params))\n",
    "    if all(dX_dt(list(reversed(X_f1)), **params) == 0):\n",
    "        fixed_points.append(X_f1)\n",
    "    if all(dX_dt(list(reversed(X_f2)), **params) == 0):\n",
    "        fixed_points.append(X_f2)\n",
    "\n",
    "    if params[\"r1\"] > 0 or params[\"r2\"] > 0:\n",
    "        print(\n",
    "            f\"There are partial extinction points at {fixed_points[1]} and {fixed_points[2]}\"\n",
    "        )\n",
    "    print(\"Trivial fixed points:\", fixed_points)\n",
    "    return fixed_points\n",
    "\n",
    "\n"
   ]
  },
  {
   "cell_type": "markdown",
   "metadata": {
    "pycharm": {
     "name": "#%% md\n"
    }
   },
   "source": [
    "## Non-trivial fixed points"
   ]
  },
  {
   "cell_type": "code",
   "execution_count": 6,
   "metadata": {
    "pycharm": {
     "name": "#%% \n"
    }
   },
   "outputs": [],
   "source": [
    "def get_non_trivial_fixed_points(r1, r2, alpha1, alpha2, b12, b21, c1, c2):\n",
    "    A = (c2 * b21 * alpha1) + (c1 * b12 * b21)\n",
    "    B = (alpha1 * alpha2) + (c1 * b12 * r2) - (c2 * b21 * r1) - b12 * b21\n",
    "    C = -r1 * alpha2 - b12 * r2\n",
    "\n",
    "    plant_values = np.roots([A, B, C])\n",
    "\n",
    "    animal_values = list(\n",
    "        map(lambda x: (r2 + (b21 * x)) / (alpha2 + (c2 * b21 * x)), plant_values)\n",
    "    )\n",
    "\n",
    "    non_trivial_fixed_points = list(zip(plant_values, animal_values))\n",
    "\n",
    "    print(\"non trivial fixed points\", non_trivial_fixed_points)\n",
    "\n",
    "    for fp in non_trivial_fixed_points:\n",
    "        print(\n",
    "            \"d/dt close to 0\",\n",
    "            dX_dt(\n",
    "                reversed(list(fp)),\n",
    "                r1=r1,\n",
    "                r2=r2,\n",
    "                alpha1=alpha1,\n",
    "                alpha2=alpha2,\n",
    "                b12=b12,\n",
    "                b21=b21,\n",
    "                c1=c1,\n",
    "                c2=c2,\n",
    "            ),\n",
    "        )\n",
    "\n",
    "    return non_trivial_fixed_points\n",
    "\n"
   ]
  },
  {
   "cell_type": "markdown",
   "metadata": {
    "pycharm": {
     "name": "#%% md\n"
    }
   },
   "source": [
    "## Flow diagrams\n",
    "\n",
    "### Intuition\n",
    "The fixed points are marked as red circles. These can be thought of as points where the two populations stabilize. The colour of the arrows (or length and colour if you turn of normalization) represent intensity of the flow or how quickly the population converges to the given fixed point.\n",
    "\n",
    "We can generate the following 4 illustrative configurations by changing $r_1$ and $r_2$ (the intrinsic growth rates of each species).\n",
    "\n",
    "---\n",
    "\n",
    "> $$r_1 = -10, r_2 = -10$$\n",
    "In this configuration mutualism is obligatory since without it both populations would tend to the $(0, 0)$ extinction fixed points. You can demonstrate this by sliding the rate of mutualistic interacts to $b_{12} = b_{21} = 0$\n",
    "\n",
    "---\n",
    "\n",
    "> $$r_1 = -3, r_2 = -10$$\n",
    "Here mutualism is also obligatory for both populations but more so for the animal species. We can see this from the fixed point near $(27, 10)$.\n",
    "\n",
    "---\n",
    "\n",
    "> $$r_1 = 1, r_2 = -10$$\n",
    "Here mutualism is only necessary for the animal species. If there are no members of the animal species the plant species will continue thriving, whilst the animal species will go extinct.\n",
    "\n",
    "---\n",
    "\n",
    "> $$r_1 = 1, r_2 = 1$$\n",
    "Here mutualism is completely optional and both species can survive with or without it."
   ]
  },
  {
   "cell_type": "markdown",
   "metadata": {
    "pycharm": {
     "name": "#%% md\n"
    }
   },
   "source": [
    "## Flow diagrams\n",
    "\n"
   ]
  },
  {
   "cell_type": "code",
   "execution_count": 7,
   "metadata": {
    "pycharm": {
     "name": "#%%\n"
    }
   },
   "outputs": [
    {
     "data": {
      "application/vnd.jupyter.widget-view+json": {
       "model_id": "8b1490d4202448cb86ab174835f84c32",
       "version_major": 2,
       "version_minor": 0
      },
      "text/plain": [
       "interactive(children=(IntSlider(value=-3, description='r1', max=10, min=-10), IntSlider(value=-10, description…"
      ]
     },
     "metadata": {},
     "output_type": "display_data"
    }
   ],
   "source": [
    "xmax = ymax = 150\n",
    "xmin = ymin = 0\n",
    "p.rcParams[\"figure.dpi\"] = 200\n",
    "\n",
    "\n",
    "def add_quiver(X1, Y1, normalize_arrows, arrow_style, colour_scheme, **params):\n",
    "    DX1, DY1 = dX_dt([X1, Y1], **params)  # compute growth rate on the grid\n",
    "    M = np.hypot(DX1, DY1)  # Norm of the growth rate\n",
    "    if normalize_arrows:\n",
    "        M[M == 0] = 1.0  # Avoid zero division errors\n",
    "        DX1 /= M  # Normalize each arrows\n",
    "        DY1 /= M\n",
    "    if arrow_style == \"Straight\":\n",
    "        p.quiver(\n",
    "            Y1,\n",
    "            X1,\n",
    "            DX1,\n",
    "            DY1,\n",
    "            M,\n",
    "            pivot=\"mid\",\n",
    "            cmap=getattr(p.cm, colour_scheme),\n",
    "            zorder=2,\n",
    "        )\n",
    "    elif arrow_style == \"Curved\":\n",
    "        velovect(\n",
    "            p.subplot(),\n",
    "            Y1.T,\n",
    "            X1.T,\n",
    "            DX1.T,\n",
    "            DY1.T,\n",
    "            color=M,\n",
    "            cmap=getattr(p.cm, colour_scheme),\n",
    "        )\n",
    "    elif arrow_style == \"Stream\":\n",
    "        p.streamplot(\n",
    "            Y1.T,\n",
    "            X1.T,\n",
    "            DX1.T,\n",
    "            DY1.T,\n",
    "            color=M,\n",
    "            cmap=getattr(p.cm, colour_scheme),\n",
    "            zorder=2,\n",
    "            maxlength=20,\n",
    "        )\n",
    "\n",
    "\n",
    "def add_scatter(fixed_points, non_trivial_fixed_points):\n",
    "    p.scatter(\n",
    "        np.array([x[0] for x in fixed_points + non_trivial_fixed_points]),\n",
    "        np.array([x[1] for x in fixed_points + non_trivial_fixed_points]),\n",
    "        c=\"red\",\n",
    "        zorder=4,\n",
    "    )\n",
    "\n",
    "\n",
    "@widgets.interact(\n",
    "    r1=(-10, 10, 1),\n",
    "    r2=(-10, 10, 1),\n",
    "    alpha1=(0.001, 0.01, 0.001),\n",
    "    alpha2=(0.001, 0.01, 0.001),\n",
    "    c1=(0.001, 0.01, 0.001),\n",
    "    c2=(0.001, 0.01, 0.001),\n",
    "    b12=(-1, 1, 0.1),\n",
    "    b21=(-1, 1, 0.1),\n",
    "    num_points=(10, 100, 5),\n",
    "    grid_toggle=[\"On\", \"Off\"],\n",
    "    fixed_point_toggle=[\"On\", \"Off\"],\n",
    "    normalize_arrows=[\"Yes\", \"No\"],\n",
    "    arrow_style=[\"Straight\", \"Curved\", \"Stream\"],\n",
    "    colour_scheme=[\n",
    "        \"binary\",\n",
    "        \"gist_yarg\",\n",
    "        \"gist_gray\",\n",
    "        \"gray\",\n",
    "        \"bone\",\n",
    "        \"pink\",\n",
    "        \"spring\",\n",
    "        \"summer\",\n",
    "        \"autumn\",\n",
    "        \"winter\",\n",
    "        \"cool\",\n",
    "        \"Wistia\",\n",
    "        \"hot\",\n",
    "        \"afmhot\",\n",
    "        \"gist_heat\",\n",
    "        \"copper\",\n",
    "        \"jet\",\n",
    "        \"ocean\",\n",
    "        \"gist_earth\",\n",
    "        \"terrain\",\n",
    "    ],\n",
    ")\n",
    "def update(\n",
    "    r1=initial_r1,\n",
    "    r2=initial_r2,\n",
    "    alpha1=initial_alpha1,\n",
    "    alpha2=initial_alpha2,\n",
    "    c1=initial_c1,\n",
    "    c2=initial_c2,\n",
    "    b12=initial_b12,\n",
    "    b21=initial_b21,\n",
    "    num_points=20,\n",
    "    grid_toggle=\"On\",\n",
    "    fixed_point_toggle=\"On\",\n",
    "    normalize_arrows=\"Yes\",\n",
    "    arrow_style=\"Straight\",\n",
    "    colour_scheme=\"jet\",\n",
    "):\n",
    "\n",
    "    for artist in p.gca().lines + p.gca().collections:\n",
    "        artist.remove()\n",
    "    x = np.linspace(xmin, xmax, num_points)\n",
    "    y = np.linspace(ymin, ymax, num_points)\n",
    "\n",
    "    X1, Y1 = np.meshgrid(x, y)\n",
    "\n",
    "    p.title(f\"r1 = {r1}, r2 = {r2}\")\n",
    "    p.xlabel(\"Number of the plant species\")\n",
    "    p.ylabel(\"Number of the animal species\")\n",
    "    if grid_toggle == \"On\":\n",
    "        p.grid(zorder=-10)\n",
    "    triv = get_fixed_points(\n",
    "        r1=r1, r2=r2, alpha1=alpha1, alpha2=alpha2, b12=b12, b21=b21, c1=c1, c2=c2\n",
    "    )\n",
    "    non_triv = get_non_trivial_fixed_points(r1, r2, alpha1, alpha2, b12, b21, c1, c2)\n",
    "    add_quiver(\n",
    "        X1,\n",
    "        Y1,\n",
    "        normalize_arrows == \"Yes\",\n",
    "        arrow_style,\n",
    "        colour_scheme,\n",
    "        r1=r1,\n",
    "        r2=r2,\n",
    "        alpha1=alpha1,\n",
    "        alpha2=alpha2,\n",
    "        b12=b12,\n",
    "        b21=b21,\n",
    "        c1=c1,\n",
    "        c2=c2,\n",
    "    )\n",
    "    if fixed_point_toggle == \"On\":\n",
    "        add_scatter(triv, non_triv)\n",
    "    p.xlim(xmin, xmax)\n",
    "    p.ylim(ymin, ymax)\n",
    "    p.show()\n"
   ]
  },
  {
   "cell_type": "markdown",
   "metadata": {
    "pycharm": {
     "name": "#%% md\n"
    }
   },
   "source": [
    "## Other interesting aspects\n",
    "\n",
    "[Commensalism](https://en.wikipedia.org/wiki/Commensalism) can be modeled by setting one of $\\{b_{12}, b_{21}\\}$ to $0$ and the other to some positive value.\n",
    "\n",
    "[Parasitism](https://en.wikipedia.org/wiki/Parasitism) can likewise be modeled by setting one of $\\{b_{12}, b_{21}\\}$\n",
    "to $<0$ and one to $>0$, and [Amensalism](https://en.wikipedia.org/wiki/Symbiosis#Amensalism) by setting one negative and one to $0$.\n"
   ]
  }
 ],
 "metadata": {
  "kernelspec": {
   "display_name": "Python 3",
   "language": "python",
   "name": "python3"
  },
  "language_info": {
   "codemirror_mode": {
    "name": "ipython",
    "version": 3
   },
   "file_extension": ".py",
   "mimetype": "text/x-python",
   "name": "python",
   "nbconvert_exporter": "python",
   "pygments_lexer": "ipython3",
   "version": "3.8.1"
  }
 },
 "nbformat": 4,
 "nbformat_minor": 1
}