{
 "cells": [
  {
   "cell_type": "markdown",
   "metadata": {
    "pycharm": {
     "name": "#%% md\n"
    }
   },
   "source": [
    "# Mutualism type II functional response\n"
   ]
  },
  {
   "cell_type": "markdown",
   "metadata": {
    "pycharm": {
     "name": "#%% md\n"
    }
   },
   "source": [
    "## Imports"
   ]
  },
  {
   "cell_type": "code",
   "execution_count": 20,
   "metadata": {},
   "outputs": [],
   "source": [
    "import numpy as np\n",
    "from scipy.integrate import odeint\n",
    "import matplotlib.pyplot as p\n",
    "import ipywidgets as widgets\n",
    "from modplot import velovect"
   ]
  },
  {
   "cell_type": "markdown",
   "metadata": {
    "pycharm": {
     "name": "#%% md\n"
    }
   },
   "source": [
    "## Parameters\n",
    "\n",
    "> Animals here means some species of animal and plants means some species of plant.\n",
    "\n",
    "$r_1$ is the _intrinsic rate_ of growth of the population of animals.\n",
    "it is defined as\n",
    "$\n",
    "birthrate_1 - deathrate_1\n",
    "$.\n",
    "\n",
    "$r_2$ is the _intrinsic rate_ of growth of the population of plants.\n",
    "\n",
    "$\\alpha_1$ and $\\alpha_2$ are the \"braking/friction\" coefficient for animals and plants respectively, which can be\n",
    "interpreted as the effects of inter-species competition as well as mutualism. For simplicity, in this model the effect\n",
    "of mutualism on $\\alpha_i$ is proportional to the benefit with $c_i$ as the proportionality constant.\n",
    "\n",
    "$b_{12}$ is the rate of mutualistic interactions between animals and plants and $b_{21}$ is the rate between plants and\n",
    "animals."
   ]
  },
  {
   "cell_type": "code",
   "execution_count": 2,
   "metadata": {
    "pycharm": {
     "name": "#%%\n"
    }
   },
   "outputs": [],
   "source": [
    "# parameters\n",
    "initial_r1 = -3\n",
    "initial_r2 = -10\n",
    "initial_alpha1 = initial_alpha2 = 0.008\n",
    "initial_b12 = initial_b21 = 0.4\n",
    "initial_c1 = initial_c2 = 0.008\n"
   ]
  },
  {
   "cell_type": "markdown",
   "metadata": {
    "pycharm": {
     "name": "#%% md\n"
    }
   },
   "source": [
    "## Stability analysis\n",
    "The system dynamics with a plant species as index one and an animal species as index 2 is described by the following\n",
    "differential equation system.\n",
    "$$\n",
    "\\frac{dN^p_1}{dt} = (r_1 + b_{12}N^a_2)N^p_1 - (\\alpha_1 + c_1b_{12}N^a_2){N^p_1}^2\n",
    "\\\\\n",
    "\\frac{dN^a_2}{dt} = (r_2 + b_{21}N^p_1)N^a_2 - (\\alpha_2 + c_2b_{21}N^p_1){N^a_2}^2\n",
    "$$\n",
    "\n",
    "$\\frac{dN^p_1}{dt}$ describing how the plant population changes over time."
   ]
  },
  {
   "cell_type": "code",
   "execution_count": 3,
   "metadata": {
    "pycharm": {
     "name": "#%%\n"
    }
   },
   "outputs": [],
   "source": [
    "def dX_dt(X, t=0, **params):\n",
    "    animal, plant = X\n",
    "    return np.array([\n",
    "        (params['r1'] + (params['b12']*animal))*plant - ((params['alpha1'] + (params['c1']*params['b12']*animal))*(plant**2)),\n",
    "        (params['r2'] + (params['b21']*plant))*animal - ((params['alpha2'] + (params['c2']*params['b21']*plant))*(animal**2))\n",
    "    ])\n"
   ]
  },
  {
   "cell_type": "markdown",
   "metadata": {
    "pycharm": {
     "name": "#%% md\n"
    }
   },
   "source": [
    "## Population dynamics/fixed points"
   ]
  },
  {
   "cell_type": "code",
   "execution_count": 4,
   "metadata": {
    "pycharm": {
     "name": "#%%\n"
    }
   },
   "outputs": [],
   "source": [
    "\n",
    "\"\"\"\n",
    "The dynamics of the surviving population with posi-tive r\n",
    "follows a decoupled logistic equation, as can be seen from(11).\n",
    "Therefore, its population will tend to the limit given by a non-interacting system:\n",
    "either K1=r1/α1 or K2 = r2/α2. This means that there are partial extinction\n",
    "fixed points (K1, 0) or (0, K2),or both if mutualism is facultative only for species 1\n",
    "(r1 > 0), only for species 2 (r2 > 0) (see Fig. 1c) or for both (r1 > 0 and r2 > 0) (see Fig. 1d).\n",
    "\"\"\"\n",
    "def get_fixed_points(**params):\n",
    "    X_f0 = np.array([0., 0.])\n",
    "    K1 = params['r1']/params['alpha1']\n",
    "    K2 = params['r2']/params['alpha2']\n",
    "    X_f1 = np.array([0., K1])\n",
    "    X_f2 = np.array([K2, 0.])\n",
    "    fixed_points = [X_f0]\n",
    "    # print(X_f1, X_f2)\n",
    "    print(dX_dt(X_f2, **params), dX_dt(X_f2, **params))\n",
    "    if all(dX_dt(X_f1, **params) == 0):\n",
    "        fixed_points.append(X_f1)\n",
    "    if all(dX_dt(X_f2, **params) == 0):\n",
    "        fixed_points.append(X_f2)\n",
    "        \n",
    "    if params['r1'] > 0 or params['r2'] > 0:\n",
    "        print(f\"There are partial extinction points at {fixed_points[1]} and {fixed_points[2]}\")\n",
    "    print(\"Trivial fixed points:\", fixed_points)\n",
    "    return fixed_points\n",
    "\n",
    "\n"
   ]
  },
  {
   "cell_type": "markdown",
   "metadata": {
    "pycharm": {
     "name": "#%% md\n"
    }
   },
   "source": [
    "## Non-trivial fixed points"
   ]
  },
  {
   "cell_type": "code",
   "execution_count": 5,
   "metadata": {
    "pycharm": {
     "name": "#%% \n"
    }
   },
   "outputs": [],
   "source": [
    "\n",
    "def get_non_trivial_fixed_points(r1, r2, alpha1, alpha2, b12, b21, c1, c2):\n",
    "    A = (c2*b21*alpha1) + (c1*b12*b21)\n",
    "    B = (alpha1*alpha2) + (c1*b12*r2) - (c2*b21*r1) - b12*b21\n",
    "    C = -r1*alpha2 - b12*r2\n",
    "\n",
    "    plant_values = np.roots([A, B, C])\n",
    "\n",
    "    animal_values = list(map(lambda x: (r2+(b21*x))/(alpha2 + (c2*b21*x)), plant_values))\n",
    "\n",
    "    non_trivial_fixed_points = list(zip(plant_values, animal_values))\n",
    "\n",
    "    print(\"non trivial fixed points\", non_trivial_fixed_points)\n",
    "\n",
    "    for fp in non_trivial_fixed_points:\n",
    "        print(\"d/dt close to 0\", dX_dt(reversed(list(fp)), r1=r1, r2=r2, alpha1=alpha1, alpha2=alpha2, b12=b12, b21=b21, c1=c1, c2=c2))\n",
    "    \n",
    "    return non_trivial_fixed_points\n"
   ]
  },
  {
   "cell_type": "code",
   "execution_count": 6,
   "metadata": {},
   "outputs": [],
   "source": [
    "## Flow diagrams"
   ]
  },
  {
   "cell_type": "markdown",
   "metadata": {
    "pycharm": {
     "name": "#%% md\n"
    }
   },
   "source": [
    "## Flow diagrams\n",
    "\n"
   ]
  },
  {
   "cell_type": "code",
   "execution_count": 39,
   "metadata": {
    "pycharm": {
     "name": "#%%\n"
    }
   },
   "outputs": [
    {
     "data": {
      "application/vnd.jupyter.widget-view+json": {
       "model_id": "99965c4aedcf4cefa1a55f31e1d80158",
       "version_major": 2,
       "version_minor": 0
      },
      "text/plain": [
       "interactive(children=(IntSlider(value=-3, description='r1', max=10, min=-10), IntSlider(value=-10, description…"
      ]
     },
     "metadata": {},
     "output_type": "display_data"
    }
   ],
   "source": [
    "xmax = ymax = 150\n",
    "p.rcParams['figure.dpi'] = 400\n",
    "\n",
    "                      # create a grid\n",
    "def add_quiver(X1, Y1, normalize_arrows, arrow_style, colour_scheme, **params):\n",
    "    DX1, DY1 = dX_dt([X1, Y1], **params)# compute growth rate on the gridt\n",
    "    M = (np.hypot(DX1, DY1))                           # Norm of the growth rate\n",
    "    if normalize_arrows:\n",
    "        M[ M == 0] = 1.                                 # Avoid zero division errors\n",
    "        DX1 /= M                                        # Normalize each arrows\n",
    "        DY1 /= M\n",
    "#     print(X1, Y1)\n",
    "    if arrow_style==\"Straight\":\n",
    "        p.quiver(Y1, X1, DX1, DY1, M, pivot='mid', cmap=getattr(p.cm,colour_scheme), zorder=2)\n",
    "    elif arrow_style==\"Curved\":\n",
    "        velovect(p.subplot(), Y1.T, X1.T, DX1.T, DY1.T, color=M, cmap=getattr(p.cm,colour_scheme))\n",
    "    elif arrow_style==\"Stream\":\n",
    "        p.streamplot( Y1.T, X1.T, DX1.T, DY1.T, color=M, cmap=getattr(p.cm,colour_scheme), zorder=2, maxlength=20)\n",
    "\n",
    "#-------------------------------------------------------\n",
    "# Drow direction fields, using matplotlib 's quiver function\n",
    "# I choose to plot normalized arrows and to use colors to give information on\n",
    "# the growth speed\n",
    "\n",
    "# print(\"fixed points\", fixed_points)\n",
    "# p.scatter([10], [10], c='red')\n",
    "\n",
    "def add_scatter(fixed_points, non_trivial_fixed_points):\n",
    "    p.scatter(np.array([x[0] for x in fixed_points + non_trivial_fixed_points]), np.array([x[1] for x in fixed_points + non_trivial_fixed_points]), c='red', zorder=4)\n",
    "\n",
    "    \n",
    "\n",
    "\n",
    "# add_quiver()\n",
    "# add_scatter()\n",
    "\n",
    "@widgets.interact(r1=(-10, 10, 1), r2=(-10, 10, 1), alpha1=(0.001, 0.01, 0.001), alpha2=(0.001, 0.01, 0.001), \n",
    "                    c1=(0.001, 0.01, 0.001), c2=(0.001, 0.01, 0.001), b12=(0.1, 1, 0.1), b21=(0.1, 1, 0.1),\n",
    "                    num_points=(10, 100, 5), grid_toggle=[\"On\", \"Off\"], fixed_point_toggle=[\"On\", \"Off\"], \n",
    "                    normalize_arrows=[\"Yes\", \"No\"], arrow_style=[\"Straight\", \"Curved\", \"Stream\"], colour_scheme=[\n",
    "            'binary', 'gist_yarg', 'gist_gray', 'gray', 'bone', 'pink',\n",
    "            'spring', 'summer', 'autumn', 'winter', 'cool', 'Wistia',\n",
    "            'hot', 'afmhot', 'gist_heat', 'copper', 'jet', 'ocean', 'gist_earth', 'terrain'])\n",
    "def update(r1=initial_r1, r2=initial_r2, alpha1=initial_alpha1, alpha2=initial_alpha2, c1=initial_c1, c2=initial_c2, \n",
    "           b12= initial_b12, b21=initial_b21, num_points=20, grid_toggle=\"On\", fixed_point_toggle=\"On\", \n",
    "           normalize_arrows=\"Yes\", arrow_style=\"Straight\", colour_scheme=\"jet\"):\n",
    "    \n",
    "    for artist in p.gca().lines + p.gca().collections:\n",
    "        artist.remove()\n",
    "    x = np.linspace(-5, xmax, num_points)\n",
    "    y = np.linspace(-5, ymax, num_points)\n",
    "\n",
    "    X1 , Y1  = np.meshgrid(x, y) \n",
    "    \n",
    "    p.title(f\"r1 = {r1}, r2 = {r2}\")\n",
    "    p.xlabel('Number of plants')\n",
    "    p.ylabel('Number of animals')\n",
    "    if grid_toggle == \"On\":\n",
    "        p.grid(zorder=-10)\n",
    "    triv = get_fixed_points(r1=r1, r2=r2, alpha1=alpha1, alpha2=alpha2, b12=b12, b21=b21, c1=c1, c2=c2)\n",
    "    non_triv = get_non_trivial_fixed_points(r1, r2, alpha1, alpha2, b12, b21, c1, c2)\n",
    "    start_points = [(x,y) for x,y in non_triv+triv if -5 < x < 150 and -5 < y < 150] + [(150, 150), (150, 0), (0, 150), (0, 0)]\n",
    "    add_quiver(X1, Y1, normalize_arrows==\"Yes\", arrow_style, colour_scheme, r1=r1, r2=r2, alpha1=alpha1, alpha2=alpha2, b12=b12, b21=b21, c1=c1, c2=c2)\n",
    "    if fixed_point_toggle == \"On\":\n",
    "        add_scatter(triv, non_triv)\n",
    "    p.xlim(-5, xmax)\n",
    "    p.ylim(-5, ymax)\n",
    "    p.show()\n",
    "# p.tight_layout()\n",
    "\n"
   ]
  },
  {
   "cell_type": "code",
   "execution_count": null,
   "metadata": {},
   "outputs": [],
   "source": []
  },
  {
   "cell_type": "code",
   "execution_count": null,
   "metadata": {},
   "outputs": [],
   "source": []
  }
 ],
 "metadata": {
  "kernelspec": {
   "display_name": "Python 3",
   "language": "python",
   "name": "python3"
  },
  "language_info": {
   "codemirror_mode": {
    "name": "ipython",
    "version": 3
   },
   "file_extension": ".py",
   "mimetype": "text/x-python",
   "name": "python",
   "nbconvert_exporter": "python",
   "pygments_lexer": "ipython3",
   "version": "3.8.1"
  }
 },
 "nbformat": 4,
 "nbformat_minor": 1
}